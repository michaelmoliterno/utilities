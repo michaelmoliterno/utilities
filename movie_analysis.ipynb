{
 "metadata": {
  "name": "",
  "signature": "sha256:54097542d4bd5778b2e4c0ade0964d538f06a8eac232d03034c78d07fd867eed"
 },
 "nbformat": 3,
 "nbformat_minor": 0,
 "worksheets": [
  {
   "cells": [
    {
     "cell_type": "code",
     "collapsed": false,
     "input": [
      "import pandas as pd\n",
      "import numpy as np\n",
      "%matplotlib inline"
     ],
     "language": "python",
     "metadata": {},
     "outputs": [],
     "prompt_number": 258
    },
    {
     "cell_type": "code",
     "collapsed": false,
     "input": [
      "movies_df = pd.read_csv('movies.csv', sep = '|')\n",
      "movies_df.head()"
     ],
     "language": "python",
     "metadata": {},
     "outputs": [
      {
       "html": [
        "<div style=\"max-height:1000px;max-width:1500px;overflow:auto;\">\n",
        "<table border=\"1\" class=\"dataframe\">\n",
        "  <thead>\n",
        "    <tr style=\"text-align: right;\">\n",
        "      <th></th>\n",
        "      <th>title</th>\n",
        "      <th>year</th>\n",
        "      <th>length</th>\n",
        "      <th>budget</th>\n",
        "      <th>rating</th>\n",
        "      <th>votes</th>\n",
        "      <th>r1</th>\n",
        "      <th>r2</th>\n",
        "      <th>r3</th>\n",
        "      <th>r4</th>\n",
        "      <th>...</th>\n",
        "      <th>r9</th>\n",
        "      <th>r10</th>\n",
        "      <th>mpaa</th>\n",
        "      <th>Action</th>\n",
        "      <th>Animation</th>\n",
        "      <th>Comedy</th>\n",
        "      <th>Drama</th>\n",
        "      <th>Documentary</th>\n",
        "      <th>Romance</th>\n",
        "      <th>Short</th>\n",
        "    </tr>\n",
        "  </thead>\n",
        "  <tbody>\n",
        "    <tr>\n",
        "      <th>0</th>\n",
        "      <td>                        $</td>\n",
        "      <td> 1971</td>\n",
        "      <td> 121</td>\n",
        "      <td>NaN</td>\n",
        "      <td> 6.4</td>\n",
        "      <td> 348</td>\n",
        "      <td>  4.5</td>\n",
        "      <td>  4.5</td>\n",
        "      <td> 4.5</td>\n",
        "      <td>  4.5</td>\n",
        "      <td>...</td>\n",
        "      <td>  4.5</td>\n",
        "      <td>  4.5</td>\n",
        "      <td> NaN</td>\n",
        "      <td> 0</td>\n",
        "      <td> 0</td>\n",
        "      <td> 1</td>\n",
        "      <td> 1</td>\n",
        "      <td> 0</td>\n",
        "      <td> 0</td>\n",
        "      <td> 0</td>\n",
        "    </tr>\n",
        "    <tr>\n",
        "      <th>1</th>\n",
        "      <td>        $1000 a Touchdown</td>\n",
        "      <td> 1939</td>\n",
        "      <td>  71</td>\n",
        "      <td>NaN</td>\n",
        "      <td> 6.0</td>\n",
        "      <td>  20</td>\n",
        "      <td>  0.0</td>\n",
        "      <td> 14.5</td>\n",
        "      <td> 4.5</td>\n",
        "      <td> 24.5</td>\n",
        "      <td>...</td>\n",
        "      <td>  4.5</td>\n",
        "      <td> 14.5</td>\n",
        "      <td> NaN</td>\n",
        "      <td> 0</td>\n",
        "      <td> 0</td>\n",
        "      <td> 1</td>\n",
        "      <td> 0</td>\n",
        "      <td> 0</td>\n",
        "      <td> 0</td>\n",
        "      <td> 0</td>\n",
        "    </tr>\n",
        "    <tr>\n",
        "      <th>2</th>\n",
        "      <td>   $21 a Day Once a Month</td>\n",
        "      <td> 1941</td>\n",
        "      <td>   7</td>\n",
        "      <td>NaN</td>\n",
        "      <td> 8.2</td>\n",
        "      <td>   5</td>\n",
        "      <td>  0.0</td>\n",
        "      <td>  0.0</td>\n",
        "      <td> 0.0</td>\n",
        "      <td>  0.0</td>\n",
        "      <td>...</td>\n",
        "      <td> 24.5</td>\n",
        "      <td> 24.5</td>\n",
        "      <td> NaN</td>\n",
        "      <td> 0</td>\n",
        "      <td> 1</td>\n",
        "      <td> 0</td>\n",
        "      <td> 0</td>\n",
        "      <td> 0</td>\n",
        "      <td> 0</td>\n",
        "      <td> 1</td>\n",
        "    </tr>\n",
        "    <tr>\n",
        "      <th>3</th>\n",
        "      <td>                  $40,000</td>\n",
        "      <td> 1996</td>\n",
        "      <td>  70</td>\n",
        "      <td>NaN</td>\n",
        "      <td> 8.2</td>\n",
        "      <td>   6</td>\n",
        "      <td> 14.5</td>\n",
        "      <td>  0.0</td>\n",
        "      <td> 0.0</td>\n",
        "      <td>  0.0</td>\n",
        "      <td>...</td>\n",
        "      <td> 34.5</td>\n",
        "      <td> 45.5</td>\n",
        "      <td> NaN</td>\n",
        "      <td> 0</td>\n",
        "      <td> 0</td>\n",
        "      <td> 1</td>\n",
        "      <td> 0</td>\n",
        "      <td> 0</td>\n",
        "      <td> 0</td>\n",
        "      <td> 0</td>\n",
        "    </tr>\n",
        "    <tr>\n",
        "      <th>4</th>\n",
        "      <td> $50,000 Climax Show, The</td>\n",
        "      <td> 1975</td>\n",
        "      <td>  71</td>\n",
        "      <td>NaN</td>\n",
        "      <td> 3.4</td>\n",
        "      <td>  17</td>\n",
        "      <td> 24.5</td>\n",
        "      <td>  4.5</td>\n",
        "      <td> 0.0</td>\n",
        "      <td> 14.5</td>\n",
        "      <td>...</td>\n",
        "      <td>  0.0</td>\n",
        "      <td> 24.5</td>\n",
        "      <td> NaN</td>\n",
        "      <td> 0</td>\n",
        "      <td> 0</td>\n",
        "      <td> 0</td>\n",
        "      <td> 0</td>\n",
        "      <td> 0</td>\n",
        "      <td> 0</td>\n",
        "      <td> 0</td>\n",
        "    </tr>\n",
        "  </tbody>\n",
        "</table>\n",
        "<p>5 rows \u00d7 24 columns</p>\n",
        "</div>"
       ],
       "metadata": {},
       "output_type": "pyout",
       "prompt_number": 259,
       "text": [
        "                      title  year  length  budget  rating  votes    r1    r2  \\\n",
        "0                         $  1971     121     NaN     6.4    348   4.5   4.5   \n",
        "1         $1000 a Touchdown  1939      71     NaN     6.0     20   0.0  14.5   \n",
        "2    $21 a Day Once a Month  1941       7     NaN     8.2      5   0.0   0.0   \n",
        "3                   $40,000  1996      70     NaN     8.2      6  14.5   0.0   \n",
        "4  $50,000 Climax Show, The  1975      71     NaN     3.4     17  24.5   4.5   \n",
        "\n",
        "    r3    r4  ...      r9   r10  mpaa  Action  Animation  Comedy Drama  \\\n",
        "0  4.5   4.5  ...     4.5   4.5   NaN       0          0       1     1   \n",
        "1  4.5  24.5  ...     4.5  14.5   NaN       0          0       1     0   \n",
        "2  0.0   0.0  ...    24.5  24.5   NaN       0          1       0     0   \n",
        "3  0.0   0.0  ...    34.5  45.5   NaN       0          0       1     0   \n",
        "4  0.0  14.5  ...     0.0  24.5   NaN       0          0       0     0   \n",
        "\n",
        "   Documentary  Romance  Short  \n",
        "0            0        0      0  \n",
        "1            0        0      0  \n",
        "2            0        0      1  \n",
        "3            0        0      0  \n",
        "4            0        0      0  \n",
        "\n",
        "[5 rows x 24 columns]"
       ]
      }
     ],
     "prompt_number": 259
    },
    {
     "cell_type": "code",
     "collapsed": false,
     "input": [
      "movies_df.year.describe()\n",
      "movies_df.year.hist(bins = 11, range=[1893,2005],align='left')"
     ],
     "language": "python",
     "metadata": {},
     "outputs": [
      {
       "metadata": {},
       "output_type": "pyout",
       "prompt_number": 260,
       "text": [
        "<matplotlib.axes._subplots.AxesSubplot at 0x7fef597d4f50>"
       ]
      },
      {
       "metadata": {},
       "output_type": "display_data",
       "png": "[encoded data removed]",
       "text": [
        "<matplotlib.figure.Figure at 0x7fef597d4e50>"
       ]
      }
     ],
     "prompt_number": 260
    },
    {
     "cell_type": "code",
     "collapsed": false,
     "input": [
      "movies_df.length.describe()\n",
      "movies_df.length.hist(bins = 20, range = [0,200])"
     ],
     "language": "python",
     "metadata": {},
     "outputs": [
      {
       "metadata": {},
       "output_type": "pyout",
       "prompt_number": 261,
       "text": [
        "<matplotlib.axes._subplots.AxesSubplot at 0x7fef5a561690>"
       ]
      },
      {
       "metadata": {},
       "output_type": "display_data",
       "png": "[encoded data removed]",
       "text": [
        "<matplotlib.figure.Figure at 0x7fef5a4ff890>"
       ]
      }
     ],
     "prompt_number": 261
    },
    {
     "cell_type": "code",
     "collapsed": false,
     "input": [
      "movies_df.rating.describe()\n",
      "movies_df.rating.hist(bins = 20, range = [0,10])\n",
      "print movies_df.rating.mean()\n",
      "print movies_df.rating.median()"
     ],
     "language": "python",
     "metadata": {},
     "outputs": [
      {
       "output_type": "stream",
       "stream": "stdout",
       "text": [
        "5.93285024155\n",
        "6.1\n"
       ]
      },
      {
       "metadata": {},
       "output_type": "display_data",
       "png": "[encoded data removed]",
       "text": [
        "<matplotlib.figure.Figure at 0x7fef5a701f90>"
       ]
      }
     ],
     "prompt_number": 262
    },
    {
     "cell_type": "code",
     "collapsed": false,
     "input": [
      "movies_df[['r1','r2','r3','r4','r5','r6','r7','r8','r9','r10']].mean().plot(kind='bar')"
     ],
     "language": "python",
     "metadata": {},
     "outputs": [
      {
       "metadata": {},
       "output_type": "pyout",
       "prompt_number": 263,
       "text": [
        "<matplotlib.axes._subplots.AxesSubplot at 0x7fef5a2c0550>"
       ]
      },
      {
       "metadata": {},
       "output_type": "display_data",
       "png": "[encoded data removed]",
       "text": [
        "<matplotlib.figure.Figure at 0x7fef5a529410>"
       ]
      }
     ],
     "prompt_number": 263
    },
    {
     "cell_type": "code",
     "collapsed": false,
     "input": [
      "movies_df_gt_1k_votes = movies_df[movies_df.votes >= 1000]\n",
      "print len(movies_df_gt_1k_votes)\n",
      "movies_df_gt_1k_votes.votes.hist(bins=25,range=[1000,80000])"
     ],
     "language": "python",
     "metadata": {},
     "outputs": [
      {
       "output_type": "stream",
       "stream": "stdout",
       "text": [
        "4515\n"
       ]
      },
      {
       "metadata": {},
       "output_type": "pyout",
       "prompt_number": 264,
       "text": [
        "<matplotlib.axes._subplots.AxesSubplot at 0x7fef5a21eb50>"
       ]
      },
      {
       "metadata": {},
       "output_type": "display_data",
       "png": "[encoded data removed]",
       "text": [
        "<matplotlib.figure.Figure at 0x7fef5a50eed0>"
       ]
      }
     ],
     "prompt_number": 264
    },
    {
     "cell_type": "code",
     "collapsed": false,
     "input": [
      "movies_df_lt_1k_votes = movies_df[movies_df.votes < 1000]\n",
      "print len(movies_df_lt_1k_votes)\n",
      "movies_df_lt_1k_votes.votes.hist(bins=50)"
     ],
     "language": "python",
     "metadata": {},
     "outputs": [
      {
       "output_type": "stream",
       "stream": "stdout",
       "text": [
        "54273\n"
       ]
      },
      {
       "metadata": {},
       "output_type": "pyout",
       "prompt_number": 265,
       "text": [
        "<matplotlib.axes._subplots.AxesSubplot at 0x7fef5a11de50>"
       ]
      },
      {
       "metadata": {},
       "output_type": "display_data",
       "png": "[encoded data removed]",
       "text": [
        "<matplotlib.figure.Figure at 0x7fef5ae9cfd0>"
       ]
      }
     ],
     "prompt_number": 265
    },
    {
     "cell_type": "code",
     "collapsed": false,
     "input": [
      "movies_df.budget.hist(bins=20,range = [0,1.5*10**8])"
     ],
     "language": "python",
     "metadata": {},
     "outputs": [
      {
       "metadata": {},
       "output_type": "pyout",
       "prompt_number": 266,
       "text": [
        "<matplotlib.axes._subplots.AxesSubplot at 0x7fef59f76a50>"
       ]
      },
      {
       "metadata": {},
       "output_type": "display_data",
       "png": "[encoded data removed]",
       "text": [
        "<matplotlib.figure.Figure at 0x7fef5a1daed0>"
       ]
      }
     ],
     "prompt_number": 266
    },
    {
     "cell_type": "code",
     "collapsed": false,
     "input": [
      "plt.scatter(movies_df.year,movies_df.budget)\n",
      "plt.ylim(0,2.5*10**8)\n",
      "plt.xlim(1893,2005)"
     ],
     "language": "python",
     "metadata": {},
     "outputs": [
      {
       "metadata": {},
       "output_type": "pyout",
       "prompt_number": 267,
       "text": [
        "(1893, 2005)"
       ]
      },
      {
       "metadata": {},
       "output_type": "display_data",
       "png": "[encoded data removed]",
       "text": [
        "<matplotlib.figure.Figure at 0x7fef59dc0290>"
       ]
      }
     ],
     "prompt_number": 267
    },
    {
     "cell_type": "markdown",
     "metadata": {},
     "source": [
      "These don't appear to be inflation adjusted... so let's take care of that. "
     ]
    },
    {
     "cell_type": "code",
     "collapsed": false,
     "input": [
      "def get_cpi_df():\n",
      "\n",
      "    cpi = pd.read_csv('CPI-2005.csv')\n",
      "    cpi['inflator'] = 0\n",
      "\n",
      "    for index, row in cpi.iterrows():\n",
      "        cpi.ix[index,'inflator'] = 100/row['CPI2005base']\n",
      "        cpi.ix[index,'year'] = row['year'].split('/')[2]\n",
      "    \n",
      "    cpi.year = cpi.year.astype(int)\n",
      "    \n",
      "    return cpi[['year','inflator']]"
     ],
     "language": "python",
     "metadata": {},
     "outputs": [],
     "prompt_number": 268
    },
    {
     "cell_type": "code",
     "collapsed": false,
     "input": [
      "cpi = get_cpi_df()\n",
      "movies_df = pd.merge(movies_df, cpi, on='year', how='inner')\n",
      "#movies_df\n",
      "movies_df['budget_adj'] = movies_df.budget * movies_df.inflator"
     ],
     "language": "python",
     "metadata": {},
     "outputs": [],
     "prompt_number": 269
    },
    {
     "cell_type": "code",
     "collapsed": false,
     "input": [
      "movies_df['log_budget'] = np.log1p(movies_df['budget'])\n",
      "movies_df['log_budget_adj'] = np.log1p(movies_df['budget_adj'])\n",
      "movies_df['log_votes'] = np.log1p(movies_df['votes'])"
     ],
     "language": "python",
     "metadata": {},
     "outputs": [],
     "prompt_number": 271
    },
    {
     "cell_type": "code",
     "collapsed": false,
     "input": [
      "plt.scatter(movies_df.year,movies_df.budget_adj)\n",
      "plt.ylim(0,2.5*10**8)\n",
      "plt.xlim(1893,2005)"
     ],
     "language": "python",
     "metadata": {},
     "outputs": [
      {
       "metadata": {},
       "output_type": "pyout",
       "prompt_number": 272,
       "text": [
        "(1893, 2005)"
       ]
      },
      {
       "metadata": {},
       "output_type": "display_data",
       "png": "[encoded data removed]",
       "text": [
        "<matplotlib.figure.Figure at 0x7fef59d63750>"
       ]
      }
     ],
     "prompt_number": 272
    },
    {
     "cell_type": "code",
     "collapsed": false,
     "input": [
      "movies_df.budget_adj.hist(bins=50,range = [0,2*10**8])"
     ],
     "language": "python",
     "metadata": {},
     "outputs": [
      {
       "metadata": {},
       "output_type": "pyout",
       "prompt_number": 273,
       "text": [
        "<matplotlib.axes._subplots.AxesSubplot at 0x7fef59be5650>"
       ]
      },
      {
       "metadata": {},
       "output_type": "display_data",
       "png": "[encoded data removed]",
       "text": [
        "<matplotlib.figure.Figure at 0x7fef59cc3b10>"
       ]
      }
     ],
     "prompt_number": 273
    },
    {
     "cell_type": "code",
     "collapsed": false,
     "input": [
      "movies_df_lt_1m_budget = movies_df[movies_df.budget_adj < 1000000]\n",
      "print len(movies_df_lt_1m_budget)\n",
      "movies_df_lt_1m_budget.budget_adj.hist(bins=50)"
     ],
     "language": "python",
     "metadata": {},
     "outputs": [
      {
       "output_type": "stream",
       "stream": "stdout",
       "text": [
        "1399\n"
       ]
      },
      {
       "metadata": {},
       "output_type": "pyout",
       "prompt_number": 274,
       "text": [
        "<matplotlib.axes._subplots.AxesSubplot at 0x7fef59b48690>"
       ]
      },
      {
       "metadata": {},
       "output_type": "display_data",
       "png": "[encoded data removed]",
       "text": [
        "<matplotlib.figure.Figure at 0x7fef59a4f410>"
       ]
      }
     ],
     "prompt_number": 274
    },
    {
     "cell_type": "code",
     "collapsed": false,
     "input": [
      "movies_df_gt_1m_budget = movies_df[movies_df.budget_adj >= 1000000]\n",
      "print len(movies_df_gt_1m_budget)\n",
      "movies_df_gt_1m_budget.budget_adj.hist(bins=20,range=[1*10**8,3*10**8])"
     ],
     "language": "python",
     "metadata": {},
     "outputs": [
      {
       "output_type": "stream",
       "stream": "stdout",
       "text": [
        "3816\n"
       ]
      },
      {
       "metadata": {},
       "output_type": "pyout",
       "prompt_number": 275,
       "text": [
        "<matplotlib.axes._subplots.AxesSubplot at 0x7fef5a3ee450>"
       ]
      },
      {
       "metadata": {},
       "output_type": "display_data",
       "png": "[encoded data removed]",
       "text": [
        "<matplotlib.figure.Figure at 0x7fef5b059950>"
       ]
      }
     ],
     "prompt_number": 275
    },
    {
     "cell_type": "code",
     "collapsed": false,
     "input": [
      "budget_adj_df = movies_df[np.isfinite(movies_df['budget_adj'])]\n",
      "budget_adj_df\\\n",
      ".sort('budget_adj',ascending=False)[['title','year','budget','budget_adj','mpaa']]\\\n",
      ".head(10)"
     ],
     "language": "python",
     "metadata": {},
     "outputs": [
      {
       "html": [
        "<div style=\"max-height:1000px;max-width:1500px;overflow:auto;\">\n",
        "<table border=\"1\" class=\"dataframe\">\n",
        "  <thead>\n",
        "    <tr style=\"text-align: right;\">\n",
        "      <th></th>\n",
        "      <th>title</th>\n",
        "      <th>year</th>\n",
        "      <th>budget</th>\n",
        "      <th>budget_adj</th>\n",
        "      <th>mpaa</th>\n",
        "    </tr>\n",
        "  </thead>\n",
        "  <tbody>\n",
        "    <tr>\n",
        "      <th>13557</th>\n",
        "      <td>                        Voyna i mir</td>\n",
        "      <td> 1968</td>\n",
        "      <td> 100000000</td>\n",
        "      <td> 5.617978e+08</td>\n",
        "      <td>   NaN</td>\n",
        "    </tr>\n",
        "    <tr>\n",
        "      <th>47143</th>\n",
        "      <td>                          Cleopatra</td>\n",
        "      <td> 1963</td>\n",
        "      <td>  44000000</td>\n",
        "      <td> 2.802548e+08</td>\n",
        "      <td>   NaN</td>\n",
        "    </tr>\n",
        "    <tr>\n",
        "      <th>20800</th>\n",
        "      <td>                            Titanic</td>\n",
        "      <td> 1997</td>\n",
        "      <td> 200000000</td>\n",
        "      <td> 2.433090e+08</td>\n",
        "      <td> PG-13</td>\n",
        "    </tr>\n",
        "    <tr>\n",
        "      <th>15440</th>\n",
        "      <td>                         Waterworld</td>\n",
        "      <td> 1995</td>\n",
        "      <td> 175000000</td>\n",
        "      <td> 2.243590e+08</td>\n",
        "      <td> PG-13</td>\n",
        "    </tr>\n",
        "    <tr>\n",
        "      <th>29398</th>\n",
        "      <td>                       Spider-Man 2</td>\n",
        "      <td> 2004</td>\n",
        "      <td> 200000000</td>\n",
        "      <td> 2.068252e+08</td>\n",
        "      <td> PG-13</td>\n",
        "    </tr>\n",
        "    <tr>\n",
        "      <th>37561</th>\n",
        "      <td>                     Wild Wild West</td>\n",
        "      <td> 1999</td>\n",
        "      <td> 170000000</td>\n",
        "      <td> 1.992966e+08</td>\n",
        "      <td> PG-13</td>\n",
        "    </tr>\n",
        "    <tr>\n",
        "      <th>29548</th>\n",
        "      <td>                               Troy</td>\n",
        "      <td> 2004</td>\n",
        "      <td> 185000000</td>\n",
        "      <td> 1.913133e+08</td>\n",
        "      <td>     R</td>\n",
        "    </tr>\n",
        "    <tr>\n",
        "      <th>44488</th>\n",
        "      <td> Terminator 3: Rise of the Machines</td>\n",
        "      <td> 2003</td>\n",
        "      <td> 175000000</td>\n",
        "      <td> 1.857749e+08</td>\n",
        "      <td>     R</td>\n",
        "    </tr>\n",
        "    <tr>\n",
        "      <th>37359</th>\n",
        "      <td>                             Tarzan</td>\n",
        "      <td> 1999</td>\n",
        "      <td> 150000000</td>\n",
        "      <td> 1.758499e+08</td>\n",
        "      <td>   NaN</td>\n",
        "    </tr>\n",
        "    <tr>\n",
        "      <th>33479</th>\n",
        "      <td>                         Armageddon</td>\n",
        "      <td> 1998</td>\n",
        "      <td> 140000000</td>\n",
        "      <td> 1.676647e+08</td>\n",
        "      <td> PG-13</td>\n",
        "    </tr>\n",
        "  </tbody>\n",
        "</table>\n",
        "</div>"
       ],
       "metadata": {},
       "output_type": "pyout",
       "prompt_number": 276,
       "text": [
        "                                    title  year     budget    budget_adj  \\\n",
        "13557                         Voyna i mir  1968  100000000  5.617978e+08   \n",
        "47143                           Cleopatra  1963   44000000  2.802548e+08   \n",
        "20800                             Titanic  1997  200000000  2.433090e+08   \n",
        "15440                          Waterworld  1995  175000000  2.243590e+08   \n",
        "29398                        Spider-Man 2  2004  200000000  2.068252e+08   \n",
        "37561                      Wild Wild West  1999  170000000  1.992966e+08   \n",
        "29548                                Troy  2004  185000000  1.913133e+08   \n",
        "44488  Terminator 3: Rise of the Machines  2003  175000000  1.857749e+08   \n",
        "37359                              Tarzan  1999  150000000  1.758499e+08   \n",
        "33479                          Armageddon  1998  140000000  1.676647e+08   \n",
        "\n",
        "        mpaa  \n",
        "13557    NaN  \n",
        "47143    NaN  \n",
        "20800  PG-13  \n",
        "15440  PG-13  \n",
        "29398  PG-13  \n",
        "37561  PG-13  \n",
        "29548      R  \n",
        "44488      R  \n",
        "37359    NaN  \n",
        "33479  PG-13  "
       ]
      }
     ],
     "prompt_number": 276
    },
    {
     "cell_type": "code",
     "collapsed": false,
     "input": [
      "movies_df['mpaa'].value_counts()"
     ],
     "language": "python",
     "metadata": {},
     "outputs": [
      {
       "metadata": {},
       "output_type": "pyout",
       "prompt_number": 277,
       "text": [
        "R        3377\n",
        "PG-13    1003\n",
        "PG        528\n",
        "NC-17      16\n",
        "dtype: int64"
       ]
      }
     ],
     "prompt_number": 277
    },
    {
     "cell_type": "code",
     "collapsed": false,
     "input": [
      "animated = movies_df[movies_df.Animation == 1]\n",
      "animated.sort('budget_adj',ascending=False)[['title','year','budget','budget_adj','mpaa']].head(15)"
     ],
     "language": "python",
     "metadata": {},
     "outputs": [
      {
       "html": [
        "<div style=\"max-height:1000px;max-width:1500px;overflow:auto;\">\n",
        "<table border=\"1\" class=\"dataframe\">\n",
        "  <thead>\n",
        "    <tr style=\"text-align: right;\">\n",
        "      <th></th>\n",
        "      <th>title</th>\n",
        "      <th>year</th>\n",
        "      <th>budget</th>\n",
        "      <th>budget_adj</th>\n",
        "      <th>mpaa</th>\n",
        "    </tr>\n",
        "  </thead>\n",
        "  <tbody>\n",
        "    <tr>\n",
        "      <th>37359</th>\n",
        "      <td>                            Tarzan</td>\n",
        "      <td> 1999</td>\n",
        "      <td> 150000000</td>\n",
        "      <td> 1.758499e+08</td>\n",
        "      <td>   NaN</td>\n",
        "    </tr>\n",
        "    <tr>\n",
        "      <th>29144</th>\n",
        "      <td>                Polar Express, The</td>\n",
        "      <td> 2004</td>\n",
        "      <td> 150000000</td>\n",
        "      <td> 1.551189e+08</td>\n",
        "      <td>   NaN</td>\n",
        "    </tr>\n",
        "    <tr>\n",
        "      <th>7655 </th>\n",
        "      <td>                   Treasure Planet</td>\n",
        "      <td> 2002</td>\n",
        "      <td> 140000000</td>\n",
        "      <td> 1.520087e+08</td>\n",
        "      <td>    PG</td>\n",
        "    </tr>\n",
        "    <tr>\n",
        "      <th>25243</th>\n",
        "      <td> Final Fantasy: The Spirits Within</td>\n",
        "      <td> 2001</td>\n",
        "      <td> 137000000</td>\n",
        "      <td> 1.510474e+08</td>\n",
        "      <td> PG-13</td>\n",
        "    </tr>\n",
        "    <tr>\n",
        "      <th>4173 </th>\n",
        "      <td>                          Dinosaur</td>\n",
        "      <td> 2000</td>\n",
        "      <td> 127500000</td>\n",
        "      <td> 1.445578e+08</td>\n",
        "      <td>    PG</td>\n",
        "    </tr>\n",
        "    <tr>\n",
        "      <th>25859</th>\n",
        "      <td>                    Monsters, Inc.</td>\n",
        "      <td> 2001</td>\n",
        "      <td> 115000000</td>\n",
        "      <td> 1.267916e+08</td>\n",
        "      <td>   NaN</td>\n",
        "    </tr>\n",
        "    <tr>\n",
        "      <th>9776 </th>\n",
        "      <td>           Who Framed Roger Rabbit</td>\n",
        "      <td> 1988</td>\n",
        "      <td>  70000000</td>\n",
        "      <td> 1.155116e+08</td>\n",
        "      <td>   NaN</td>\n",
        "    </tr>\n",
        "    <tr>\n",
        "      <th>28555</th>\n",
        "      <td>                 Home on the Range</td>\n",
        "      <td> 2004</td>\n",
        "      <td> 110000000</td>\n",
        "      <td> 1.137539e+08</td>\n",
        "      <td>    PG</td>\n",
        "    </tr>\n",
        "    <tr>\n",
        "      <th>4231 </th>\n",
        "      <td>         Emperor's New Groove, The</td>\n",
        "      <td> 2000</td>\n",
        "      <td> 100000000</td>\n",
        "      <td> 1.133787e+08</td>\n",
        "      <td>   NaN</td>\n",
        "    </tr>\n",
        "    <tr>\n",
        "      <th>5199 </th>\n",
        "      <td>            Road to El Dorado, The</td>\n",
        "      <td> 2000</td>\n",
        "      <td>  95000000</td>\n",
        "      <td> 1.077098e+08</td>\n",
        "      <td>    PG</td>\n",
        "    </tr>\n",
        "    <tr>\n",
        "      <th>37425</th>\n",
        "      <td>                       Toy Story 2</td>\n",
        "      <td> 1999</td>\n",
        "      <td>  90000000</td>\n",
        "      <td> 1.055100e+08</td>\n",
        "      <td>   NaN</td>\n",
        "    </tr>\n",
        "    <tr>\n",
        "      <th>10432</th>\n",
        "      <td>                    Lion King, The</td>\n",
        "      <td> 1994</td>\n",
        "      <td>  79300000</td>\n",
        "      <td> 1.044796e+08</td>\n",
        "      <td>   NaN</td>\n",
        "    </tr>\n",
        "    <tr>\n",
        "      <th>43223</th>\n",
        "      <td>                      Finding Nemo</td>\n",
        "      <td> 2003</td>\n",
        "      <td>  94000000</td>\n",
        "      <td> 9.978769e+07</td>\n",
        "      <td>   NaN</td>\n",
        "    </tr>\n",
        "    <tr>\n",
        "      <th>2808 </th>\n",
        "      <td>                         Space Jam</td>\n",
        "      <td> 1996</td>\n",
        "      <td>  80000000</td>\n",
        "      <td> 9.962640e+07</td>\n",
        "      <td>    PG</td>\n",
        "    </tr>\n",
        "    <tr>\n",
        "      <th>24773</th>\n",
        "      <td>         Atlantis: The Lost Empire</td>\n",
        "      <td> 2001</td>\n",
        "      <td>  90000000</td>\n",
        "      <td> 9.922822e+07</td>\n",
        "      <td>    PG</td>\n",
        "    </tr>\n",
        "  </tbody>\n",
        "</table>\n",
        "</div>"
       ],
       "metadata": {},
       "output_type": "pyout",
       "prompt_number": 278,
       "text": [
        "                                   title  year     budget    budget_adj   mpaa\n",
        "37359                             Tarzan  1999  150000000  1.758499e+08    NaN\n",
        "29144                 Polar Express, The  2004  150000000  1.551189e+08    NaN\n",
        "7655                     Treasure Planet  2002  140000000  1.520087e+08     PG\n",
        "25243  Final Fantasy: The Spirits Within  2001  137000000  1.510474e+08  PG-13\n",
        "4173                            Dinosaur  2000  127500000  1.445578e+08     PG\n",
        "25859                     Monsters, Inc.  2001  115000000  1.267916e+08    NaN\n",
        "9776             Who Framed Roger Rabbit  1988   70000000  1.155116e+08    NaN\n",
        "28555                  Home on the Range  2004  110000000  1.137539e+08     PG\n",
        "4231           Emperor's New Groove, The  2000  100000000  1.133787e+08    NaN\n",
        "5199              Road to El Dorado, The  2000   95000000  1.077098e+08     PG\n",
        "37425                        Toy Story 2  1999   90000000  1.055100e+08    NaN\n",
        "10432                     Lion King, The  1994   79300000  1.044796e+08    NaN\n",
        "43223                       Finding Nemo  2003   94000000  9.978769e+07    NaN\n",
        "2808                           Space Jam  1996   80000000  9.962640e+07     PG\n",
        "24773          Atlantis: The Lost Empire  2001   90000000  9.922822e+07     PG"
       ]
      }
     ],
     "prompt_number": 278
    },
    {
     "cell_type": "code",
     "collapsed": false,
     "input": [
      "from sklearn.linear_model import LinearRegression\n",
      "from sklearn import linear_model\n",
      "import statsmodels.formula.api as sm"
     ],
     "language": "python",
     "metadata": {},
     "outputs": [],
     "prompt_number": 279
    },
    {
     "cell_type": "code",
     "collapsed": false,
     "input": [
      "model_df = movies_df[['rating','budget','Action','Animation','Comedy','Drama','Documentary','Romance','Short']].dropna()\n",
      "# 0.754"
     ],
     "language": "python",
     "metadata": {},
     "outputs": [],
     "prompt_number": 280
    },
    {
     "cell_type": "code",
     "collapsed": false,
     "input": [
      "model_df = movies_df[['rating','budget_adj','Action','Animation','Comedy','Drama','Documentary','Romance','Short']].dropna()\n",
      "# 0.763"
     ],
     "language": "python",
     "metadata": {},
     "outputs": [],
     "prompt_number": 281
    },
    {
     "cell_type": "code",
     "collapsed": false,
     "input": [
      "model_df = movies_df[['rating','log_budget','Action','Animation','Comedy','Drama','Documentary','Romance','Short']].dropna()\n",
      "# 0.932"
     ],
     "language": "python",
     "metadata": {},
     "outputs": [],
     "prompt_number": 282
    },
    {
     "cell_type": "code",
     "collapsed": false,
     "input": [
      "model_df = movies_df[['rating','log_budget_adj','Action','Animation','Comedy','Drama','Documentary','Romance','Short']].dropna()\n",
      "#0.937"
     ],
     "language": "python",
     "metadata": {},
     "outputs": [],
     "prompt_number": 283
    },
    {
     "cell_type": "code",
     "collapsed": false,
     "input": [
      "model_df = movies_df[['rating','log_votes','log_budget_adj','Action','Animation','Comedy','Drama','Documentary','Romance','Short']].dropna()\n",
      "# 0.938"
     ],
     "language": "python",
     "metadata": {},
     "outputs": [],
     "prompt_number": 286
    },
    {
     "cell_type": "code",
     "collapsed": false,
     "input": [
      "model_df = movies_df[['rating','votes','log_budget_adj','Action','Animation','Comedy','Drama','Documentary','Romance','Short']].dropna()\n",
      "y = model_df['rating']\n",
      "X = model_df.drop('rating',1)\n",
      "linmodel = sm.OLS(y, X).fit()\n",
      "linmodel.summary()"
     ],
     "language": "python",
     "metadata": {},
     "outputs": [
      {
       "html": [
        "<table class=\"simpletable\">\n",
        "<caption>OLS Regression Results</caption>\n",
        "<tr>\n",
        "  <th>Dep. Variable:</th>         <td>rating</td>      <th>  R-squared:         </th> <td>   0.939</td> \n",
        "</tr>\n",
        "<tr>\n",
        "  <th>Model:</th>                   <td>OLS</td>       <th>  Adj. R-squared:    </th> <td>   0.939</td> \n",
        "</tr>\n",
        "<tr>\n",
        "  <th>Method:</th>             <td>Least Squares</td>  <th>  F-statistic:       </th> <td>   8955.</td> \n",
        "</tr>\n",
        "<tr>\n",
        "  <th>Date:</th>             <td>Fri, 10 Apr 2015</td> <th>  Prob (F-statistic):</th>  <td>  0.00</td>  \n",
        "</tr>\n",
        "<tr>\n",
        "  <th>Time:</th>                 <td>08:48:43</td>     <th>  Log-Likelihood:    </th> <td> -9718.2</td> \n",
        "</tr>\n",
        "<tr>\n",
        "  <th>No. Observations:</th>      <td>  5215</td>      <th>  AIC:               </th> <td>1.945e+04</td>\n",
        "</tr>\n",
        "<tr>\n",
        "  <th>Df Residuals:</th>          <td>  5206</td>      <th>  BIC:               </th> <td>1.951e+04</td>\n",
        "</tr>\n",
        "<tr>\n",
        "  <th>Df Model:</th>              <td>     9</td>      <th>                     </th>     <td> </td>    \n",
        "</tr>\n",
        "</table>\n",
        "<table class=\"simpletable\">\n",
        "<tr>\n",
        "         <td></td>           <th>coef</th>     <th>std err</th>      <th>t</th>      <th>P>|t|</th> <th>[95.0% Conf. Int.]</th> \n",
        "</tr>\n",
        "<tr>\n",
        "  <th>votes</th>          <td> 2.551e-05</td> <td> 1.94e-06</td> <td>   13.170</td> <td> 0.000</td> <td> 2.17e-05  2.93e-05</td>\n",
        "</tr>\n",
        "<tr>\n",
        "  <th>log_budget_adj</th> <td>    0.3399</td> <td>    0.003</td> <td>  122.298</td> <td> 0.000</td> <td>    0.334     0.345</td>\n",
        "</tr>\n",
        "<tr>\n",
        "  <th>Action</th>         <td>   -0.4997</td> <td>    0.062</td> <td>   -8.045</td> <td> 0.000</td> <td>   -0.621    -0.378</td>\n",
        "</tr>\n",
        "<tr>\n",
        "  <th>Animation</th>      <td>    0.2397</td> <td>    0.142</td> <td>    1.684</td> <td> 0.092</td> <td>   -0.039     0.519</td>\n",
        "</tr>\n",
        "<tr>\n",
        "  <th>Comedy</th>         <td>    0.2545</td> <td>    0.049</td> <td>    5.196</td> <td> 0.000</td> <td>    0.158     0.351</td>\n",
        "</tr>\n",
        "<tr>\n",
        "  <th>Drama</th>          <td>    0.9387</td> <td>    0.047</td> <td>   20.084</td> <td> 0.000</td> <td>    0.847     1.030</td>\n",
        "</tr>\n",
        "<tr>\n",
        "  <th>Documentary</th>    <td>    2.0967</td> <td>    0.142</td> <td>   14.784</td> <td> 0.000</td> <td>    1.819     2.375</td>\n",
        "</tr>\n",
        "<tr>\n",
        "  <th>Romance</th>        <td>    0.0497</td> <td>    0.063</td> <td>    0.785</td> <td> 0.432</td> <td>   -0.074     0.174</td>\n",
        "</tr>\n",
        "<tr>\n",
        "  <th>Short</th>          <td>    3.8098</td> <td>    0.076</td> <td>   49.976</td> <td> 0.000</td> <td>    3.660     3.959</td>\n",
        "</tr>\n",
        "</table>\n",
        "<table class=\"simpletable\">\n",
        "<tr>\n",
        "  <th>Omnibus:</th>       <td>256.575</td> <th>  Durbin-Watson:     </th> <td>   1.896</td> \n",
        "</tr>\n",
        "<tr>\n",
        "  <th>Prob(Omnibus):</th> <td> 0.000</td>  <th>  Jarque-Bera (JB):  </th> <td> 549.542</td> \n",
        "</tr>\n",
        "<tr>\n",
        "  <th>Skew:</th>          <td> 0.329</td>  <th>  Prob(JB):          </th> <td>4.66e-120</td>\n",
        "</tr>\n",
        "<tr>\n",
        "  <th>Kurtosis:</th>      <td> 4.447</td>  <th>  Cond. No.          </th> <td>8.43e+04</td> \n",
        "</tr>\n",
        "</table>"
       ],
       "metadata": {},
       "output_type": "pyout",
       "prompt_number": 287,
       "text": [
        "<class 'statsmodels.iolib.summary.Summary'>\n",
        "\"\"\"\n",
        "                            OLS Regression Results                            \n",
        "==============================================================================\n",
        "Dep. Variable:                 rating   R-squared:                       0.939\n",
        "Model:                            OLS   Adj. R-squared:                  0.939\n",
        "Method:                 Least Squares   F-statistic:                     8955.\n",
        "Date:                Fri, 10 Apr 2015   Prob (F-statistic):               0.00\n",
        "Time:                        08:48:43   Log-Likelihood:                -9718.2\n",
        "No. Observations:                5215   AIC:                         1.945e+04\n",
        "Df Residuals:                    5206   BIC:                         1.951e+04\n",
        "Df Model:                           9                                         \n",
        "==================================================================================\n",
        "                     coef    std err          t      P>|t|      [95.0% Conf. Int.]\n",
        "----------------------------------------------------------------------------------\n",
        "votes           2.551e-05   1.94e-06     13.170      0.000      2.17e-05  2.93e-05\n",
        "log_budget_adj     0.3399      0.003    122.298      0.000         0.334     0.345\n",
        "Action            -0.4997      0.062     -8.045      0.000        -0.621    -0.378\n",
        "Animation          0.2397      0.142      1.684      0.092        -0.039     0.519\n",
        "Comedy             0.2545      0.049      5.196      0.000         0.158     0.351\n",
        "Drama              0.9387      0.047     20.084      0.000         0.847     1.030\n",
        "Documentary        2.0967      0.142     14.784      0.000         1.819     2.375\n",
        "Romance            0.0497      0.063      0.785      0.432        -0.074     0.174\n",
        "Short              3.8098      0.076     49.976      0.000         3.660     3.959\n",
        "==============================================================================\n",
        "Omnibus:                      256.575   Durbin-Watson:                   1.896\n",
        "Prob(Omnibus):                  0.000   Jarque-Bera (JB):              549.542\n",
        "Skew:                           0.329   Prob(JB):                    4.66e-120\n",
        "Kurtosis:                       4.447   Cond. No.                     8.43e+04\n",
        "==============================================================================\n",
        "\n",
        "Warnings:\n",
        "[1] The condition number is large, 8.43e+04. This might indicate that there are\n",
        "strong multicollinearity or other numerical problems.\n",
        "\"\"\""
       ]
      }
     ],
     "prompt_number": 287
    },
    {
     "cell_type": "code",
     "collapsed": false,
     "input": [
      "model_df = movies_df[['votes','rating','log_budget_adj','Action','Animation','Comedy','Drama','Documentary','Romance','Short']].dropna()\n",
      "# 0.245"
     ],
     "language": "python",
     "metadata": {},
     "outputs": [],
     "prompt_number": 229
    },
    {
     "cell_type": "code",
     "collapsed": false,
     "input": [
      "model_df = movies_df[['votes','rating','budget_adj','Action','Animation','Comedy','Drama','Documentary','Romance','Short']].dropna()\n",
      "y = model_df['votes']\n",
      "X = model_df.drop('votes',1)\n",
      "linmodel = sm.OLS(y, X).fit()\n",
      "linmodel.summary()"
     ],
     "language": "python",
     "metadata": {},
     "outputs": [
      {
       "html": [
        "<table class=\"simpletable\">\n",
        "<caption>OLS Regression Results</caption>\n",
        "<tr>\n",
        "  <th>Dep. Variable:</th>          <td>votes</td>      <th>  R-squared:         </th> <td>   0.335</td> \n",
        "</tr>\n",
        "<tr>\n",
        "  <th>Model:</th>                   <td>OLS</td>       <th>  Adj. R-squared:    </th> <td>   0.334</td> \n",
        "</tr>\n",
        "<tr>\n",
        "  <th>Method:</th>             <td>Least Squares</td>  <th>  F-statistic:       </th> <td>   291.5</td> \n",
        "</tr>\n",
        "<tr>\n",
        "  <th>Date:</th>             <td>Fri, 10 Apr 2015</td> <th>  Prob (F-statistic):</th>  <td>  0.00</td>  \n",
        "</tr>\n",
        "<tr>\n",
        "  <th>Time:</th>                 <td>08:36:52</td>     <th>  Log-Likelihood:    </th> <td> -55593.</td> \n",
        "</tr>\n",
        "<tr>\n",
        "  <th>No. Observations:</th>      <td>  5215</td>      <th>  AIC:               </th> <td>1.112e+05</td>\n",
        "</tr>\n",
        "<tr>\n",
        "  <th>Df Residuals:</th>          <td>  5206</td>      <th>  BIC:               </th> <td>1.113e+05</td>\n",
        "</tr>\n",
        "<tr>\n",
        "  <th>Df Model:</th>              <td>     9</td>      <th>                     </th>     <td> </td>    \n",
        "</tr>\n",
        "</table>\n",
        "<table class=\"simpletable\">\n",
        "<tr>\n",
        "       <td></td>          <th>coef</th>     <th>std err</th>      <th>t</th>      <th>P>|t|</th> <th>[95.0% Conf. Int.]</th> \n",
        "</tr>\n",
        "<tr>\n",
        "  <th>rating</th>      <td>  697.4605</td> <td>   46.378</td> <td>   15.039</td> <td> 0.000</td> <td>  606.540   788.381</td>\n",
        "</tr>\n",
        "<tr>\n",
        "  <th>budget_adj</th>  <td>    0.0001</td> <td> 5.38e-06</td> <td>   26.506</td> <td> 0.000</td> <td>    0.000     0.000</td>\n",
        "</tr>\n",
        "<tr>\n",
        "  <th>Action</th>      <td> 1003.9875</td> <td>  414.056</td> <td>    2.425</td> <td> 0.015</td> <td>  192.265  1815.710</td>\n",
        "</tr>\n",
        "<tr>\n",
        "  <th>Animation</th>   <td>-2258.2295</td> <td>  949.258</td> <td>   -2.379</td> <td> 0.017</td> <td>-4119.173  -397.286</td>\n",
        "</tr>\n",
        "<tr>\n",
        "  <th>Comedy</th>      <td>-1408.3319</td> <td>  317.448</td> <td>   -4.436</td> <td> 0.000</td> <td>-2030.663  -786.001</td>\n",
        "</tr>\n",
        "<tr>\n",
        "  <th>Drama</th>       <td>-1213.2551</td> <td>  319.560</td> <td>   -3.797</td> <td> 0.000</td> <td>-1839.728  -586.782</td>\n",
        "</tr>\n",
        "<tr>\n",
        "  <th>Documentary</th> <td>-2950.4442</td> <td>  954.459</td> <td>   -3.091</td> <td> 0.002</td> <td>-4821.584 -1079.304</td>\n",
        "</tr>\n",
        "<tr>\n",
        "  <th>Romance</th>     <td>-1048.0756</td> <td>  418.892</td> <td>   -2.502</td> <td> 0.012</td> <td>-1869.280  -226.872</td>\n",
        "</tr>\n",
        "<tr>\n",
        "  <th>Short</th>       <td>-4144.1131</td> <td>  545.948</td> <td>   -7.591</td> <td> 0.000</td> <td>-5214.401 -3073.825</td>\n",
        "</tr>\n",
        "</table>\n",
        "<table class=\"simpletable\">\n",
        "<tr>\n",
        "  <th>Omnibus:</th>       <td>5766.308</td> <th>  Durbin-Watson:     </th>  <td>   1.934</td> \n",
        "</tr>\n",
        "<tr>\n",
        "  <th>Prob(Omnibus):</th>  <td> 0.000</td>  <th>  Jarque-Bera (JB):  </th> <td>566820.743</td>\n",
        "</tr>\n",
        "<tr>\n",
        "  <th>Skew:</th>           <td> 5.616</td>  <th>  Prob(JB):          </th>  <td>    0.00</td> \n",
        "</tr>\n",
        "<tr>\n",
        "  <th>Kurtosis:</th>       <td>52.824</td>  <th>  Cond. No.          </th>  <td>2.36e+08</td> \n",
        "</tr>\n",
        "</table>"
       ],
       "metadata": {},
       "output_type": "pyout",
       "prompt_number": 230,
       "text": [
        "<class 'statsmodels.iolib.summary.Summary'>\n",
        "\"\"\"\n",
        "                            OLS Regression Results                            \n",
        "==============================================================================\n",
        "Dep. Variable:                  votes   R-squared:                       0.335\n",
        "Model:                            OLS   Adj. R-squared:                  0.334\n",
        "Method:                 Least Squares   F-statistic:                     291.5\n",
        "Date:                Fri, 10 Apr 2015   Prob (F-statistic):               0.00\n",
        "Time:                        08:36:52   Log-Likelihood:                -55593.\n",
        "No. Observations:                5215   AIC:                         1.112e+05\n",
        "Df Residuals:                    5206   BIC:                         1.113e+05\n",
        "Df Model:                           9                                         \n",
        "===============================================================================\n",
        "                  coef    std err          t      P>|t|      [95.0% Conf. Int.]\n",
        "-------------------------------------------------------------------------------\n",
        "rating        697.4605     46.378     15.039      0.000       606.540   788.381\n",
        "budget_adj      0.0001   5.38e-06     26.506      0.000         0.000     0.000\n",
        "Action       1003.9875    414.056      2.425      0.015       192.265  1815.710\n",
        "Animation   -2258.2295    949.258     -2.379      0.017     -4119.173  -397.286\n",
        "Comedy      -1408.3319    317.448     -4.436      0.000     -2030.663  -786.001\n",
        "Drama       -1213.2551    319.560     -3.797      0.000     -1839.728  -586.782\n",
        "Documentary -2950.4442    954.459     -3.091      0.002     -4821.584 -1079.304\n",
        "Romance     -1048.0756    418.892     -2.502      0.012     -1869.280  -226.872\n",
        "Short       -4144.1131    545.948     -7.591      0.000     -5214.401 -3073.825\n",
        "==============================================================================\n",
        "Omnibus:                     5766.308   Durbin-Watson:                   1.934\n",
        "Prob(Omnibus):                  0.000   Jarque-Bera (JB):           566820.743\n",
        "Skew:                           5.616   Prob(JB):                         0.00\n",
        "Kurtosis:                      52.824   Cond. No.                     2.36e+08\n",
        "==============================================================================\n",
        "\n",
        "Warnings:\n",
        "[1] The condition number is large, 2.36e+08. This might indicate that there are\n",
        "strong multicollinearity or other numerical problems.\n",
        "\"\"\""
       ]
      }
     ],
     "prompt_number": 230
    },
    {
     "cell_type": "code",
     "collapsed": false,
     "input": [
      "model_df = movies_df[['budget_adj','Action','Animation','Comedy','Drama','Documentary','Romance','Short']].dropna()\n",
      "# 0.375"
     ],
     "language": "python",
     "metadata": {},
     "outputs": [],
     "prompt_number": 233
    },
    {
     "cell_type": "code",
     "collapsed": false,
     "input": [
      "model_df = movies_df[['log_budget_adj','Action','Animation','Comedy','Drama','Documentary','Romance','Short']].dropna()\n",
      "y = model_df['log_budget_adj']\n",
      "X = model_df.drop('log_budget_adj',1)\n",
      "linmodel = sm.OLS(y, X).fit()\n",
      "linmodel.summary()"
     ],
     "language": "python",
     "metadata": {},
     "outputs": [
      {
       "html": [
        "<table class=\"simpletable\">\n",
        "<caption>OLS Regression Results</caption>\n",
        "<tr>\n",
        "  <th>Dep. Variable:</th>     <td>log_budget_adj</td>  <th>  R-squared:         </th> <td>   0.725</td> \n",
        "</tr>\n",
        "<tr>\n",
        "  <th>Model:</th>                   <td>OLS</td>       <th>  Adj. R-squared:    </th> <td>   0.725</td> \n",
        "</tr>\n",
        "<tr>\n",
        "  <th>Method:</th>             <td>Least Squares</td>  <th>  F-statistic:       </th> <td>   1961.</td> \n",
        "</tr>\n",
        "<tr>\n",
        "  <th>Date:</th>             <td>Fri, 10 Apr 2015</td> <th>  Prob (F-statistic):</th>  <td>  0.00</td>  \n",
        "</tr>\n",
        "<tr>\n",
        "  <th>Time:</th>                 <td>08:37:53</td>     <th>  Log-Likelihood:    </th> <td> -18245.</td> \n",
        "</tr>\n",
        "<tr>\n",
        "  <th>No. Observations:</th>      <td>  5215</td>      <th>  AIC:               </th> <td>3.650e+04</td>\n",
        "</tr>\n",
        "<tr>\n",
        "  <th>Df Residuals:</th>          <td>  5208</td>      <th>  BIC:               </th> <td>3.655e+04</td>\n",
        "</tr>\n",
        "<tr>\n",
        "  <th>Df Model:</th>              <td>     7</td>      <th>                     </th>     <td> </td>    \n",
        "</tr>\n",
        "</table>\n",
        "<table class=\"simpletable\">\n",
        "<tr>\n",
        "       <td></td>          <th>coef</th>     <th>std err</th>      <th>t</th>      <th>P>|t|</th> <th>[95.0% Conf. Int.]</th> \n",
        "</tr>\n",
        "<tr>\n",
        "  <th>Action</th>      <td>    9.7906</td> <td>    0.285</td> <td>   34.377</td> <td> 0.000</td> <td>    9.232    10.349</td>\n",
        "</tr>\n",
        "<tr>\n",
        "  <th>Animation</th>   <td>    7.2565</td> <td>    0.723</td> <td>   10.036</td> <td> 0.000</td> <td>    5.839     8.674</td>\n",
        "</tr>\n",
        "<tr>\n",
        "  <th>Comedy</th>      <td>    9.8409</td> <td>    0.211</td> <td>   46.667</td> <td> 0.000</td> <td>    9.428    10.254</td>\n",
        "</tr>\n",
        "<tr>\n",
        "  <th>Drama</th>       <td>   11.3135</td> <td>    0.181</td> <td>   62.390</td> <td> 0.000</td> <td>   10.958    11.669</td>\n",
        "</tr>\n",
        "<tr>\n",
        "  <th>Documentary</th> <td>    9.6592</td> <td>    0.715</td> <td>   13.518</td> <td> 0.000</td> <td>    8.258    11.060</td>\n",
        "</tr>\n",
        "<tr>\n",
        "  <th>Romance</th>     <td>    3.1677</td> <td>    0.322</td> <td>    9.848</td> <td> 0.000</td> <td>    2.537     3.798</td>\n",
        "</tr>\n",
        "<tr>\n",
        "  <th>Short</th>       <td>    1.1999</td> <td>    0.389</td> <td>    3.082</td> <td> 0.002</td> <td>    0.437     1.963</td>\n",
        "</tr>\n",
        "</table>\n",
        "<table class=\"simpletable\">\n",
        "<tr>\n",
        "  <th>Omnibus:</th>       <td>20.137</td> <th>  Durbin-Watson:     </th> <td>   1.432</td>\n",
        "</tr>\n",
        "<tr>\n",
        "  <th>Prob(Omnibus):</th> <td> 0.000</td> <th>  Jarque-Bera (JB):  </th> <td>  20.337</td>\n",
        "</tr>\n",
        "<tr>\n",
        "  <th>Skew:</th>          <td>-0.153</td> <th>  Prob(JB):          </th> <td>3.84e-05</td>\n",
        "</tr>\n",
        "<tr>\n",
        "  <th>Kurtosis:</th>      <td> 2.979</td> <th>  Cond. No.          </th> <td>    4.87</td>\n",
        "</tr>\n",
        "</table>"
       ],
       "metadata": {},
       "output_type": "pyout",
       "prompt_number": 234,
       "text": [
        "<class 'statsmodels.iolib.summary.Summary'>\n",
        "\"\"\"\n",
        "                            OLS Regression Results                            \n",
        "==============================================================================\n",
        "Dep. Variable:         log_budget_adj   R-squared:                       0.725\n",
        "Model:                            OLS   Adj. R-squared:                  0.725\n",
        "Method:                 Least Squares   F-statistic:                     1961.\n",
        "Date:                Fri, 10 Apr 2015   Prob (F-statistic):               0.00\n",
        "Time:                        08:37:53   Log-Likelihood:                -18245.\n",
        "No. Observations:                5215   AIC:                         3.650e+04\n",
        "Df Residuals:                    5208   BIC:                         3.655e+04\n",
        "Df Model:                           7                                         \n",
        "===============================================================================\n",
        "                  coef    std err          t      P>|t|      [95.0% Conf. Int.]\n",
        "-------------------------------------------------------------------------------\n",
        "Action          9.7906      0.285     34.377      0.000         9.232    10.349\n",
        "Animation       7.2565      0.723     10.036      0.000         5.839     8.674\n",
        "Comedy          9.8409      0.211     46.667      0.000         9.428    10.254\n",
        "Drama          11.3135      0.181     62.390      0.000        10.958    11.669\n",
        "Documentary     9.6592      0.715     13.518      0.000         8.258    11.060\n",
        "Romance         3.1677      0.322      9.848      0.000         2.537     3.798\n",
        "Short           1.1999      0.389      3.082      0.002         0.437     1.963\n",
        "==============================================================================\n",
        "Omnibus:                       20.137   Durbin-Watson:                   1.432\n",
        "Prob(Omnibus):                  0.000   Jarque-Bera (JB):               20.337\n",
        "Skew:                          -0.153   Prob(JB):                     3.84e-05\n",
        "Kurtosis:                       2.979   Cond. No.                         4.87\n",
        "==============================================================================\n",
        "\"\"\""
       ]
      }
     ],
     "prompt_number": 234
    },
    {
     "cell_type": "code",
     "collapsed": false,
     "input": [
      "model_df = movies_df[movies_df.budget_adj >= 100000]\n",
      "model_df = model_df[model_df.length >= 45]\n",
      "\n",
      "model_df = model_df[['rating','log_budget_adj','Action','Animation','Comedy','Drama','Documentary','Romance','Short']].dropna()\n",
      "y = model_df['rating']\n",
      "X = model_df.drop('rating',1)\n",
      "linmodel = sm.OLS(y, X).fit()\n",
      "linmodel.summary()"
     ],
     "language": "python",
     "metadata": {},
     "outputs": [
      {
       "html": [
        "<table class=\"simpletable\">\n",
        "<caption>OLS Regression Results</caption>\n",
        "<tr>\n",
        "  <th>Dep. Variable:</th>         <td>rating</td>      <th>  R-squared:         </th> <td>   0.952</td> \n",
        "</tr>\n",
        "<tr>\n",
        "  <th>Model:</th>                   <td>OLS</td>       <th>  Adj. R-squared:    </th> <td>   0.952</td> \n",
        "</tr>\n",
        "<tr>\n",
        "  <th>Method:</th>             <td>Least Squares</td>  <th>  F-statistic:       </th> <td>1.112e+04</td>\n",
        "</tr>\n",
        "<tr>\n",
        "  <th>Date:</th>             <td>Fri, 10 Apr 2015</td> <th>  Prob (F-statistic):</th>  <td>  0.00</td>  \n",
        "</tr>\n",
        "<tr>\n",
        "  <th>Time:</th>                 <td>08:44:50</td>     <th>  Log-Likelihood:    </th> <td> -7675.8</td> \n",
        "</tr>\n",
        "<tr>\n",
        "  <th>No. Observations:</th>      <td>  4460</td>      <th>  AIC:               </th> <td>1.537e+04</td>\n",
        "</tr>\n",
        "<tr>\n",
        "  <th>Df Residuals:</th>          <td>  4452</td>      <th>  BIC:               </th> <td>1.542e+04</td>\n",
        "</tr>\n",
        "<tr>\n",
        "  <th>Df Model:</th>              <td>     8</td>      <th>                     </th>     <td> </td>    \n",
        "</tr>\n",
        "</table>\n",
        "<table class=\"simpletable\">\n",
        "<tr>\n",
        "         <td></td>           <th>coef</th>     <th>std err</th>      <th>t</th>      <th>P>|t|</th> <th>[95.0% Conf. Int.]</th> \n",
        "</tr>\n",
        "<tr>\n",
        "  <th>log_budget_adj</th> <td>    0.3515</td> <td>    0.002</td> <td>  141.926</td> <td> 0.000</td> <td>    0.347     0.356</td>\n",
        "</tr>\n",
        "<tr>\n",
        "  <th>Action</th>         <td>   -0.4539</td> <td>    0.056</td> <td>   -8.132</td> <td> 0.000</td> <td>   -0.563    -0.344</td>\n",
        "</tr>\n",
        "<tr>\n",
        "  <th>Animation</th>      <td>    0.3501</td> <td>    0.136</td> <td>    2.578</td> <td> 0.010</td> <td>    0.084     0.616</td>\n",
        "</tr>\n",
        "<tr>\n",
        "  <th>Comedy</th>         <td>    0.0506</td> <td>    0.046</td> <td>    1.099</td> <td> 0.272</td> <td>   -0.040     0.141</td>\n",
        "</tr>\n",
        "<tr>\n",
        "  <th>Drama</th>          <td>    0.8546</td> <td>    0.043</td> <td>   19.690</td> <td> 0.000</td> <td>    0.770     0.940</td>\n",
        "</tr>\n",
        "<tr>\n",
        "  <th>Documentary</th>    <td>    2.1140</td> <td>    0.168</td> <td>   12.603</td> <td> 0.000</td> <td>    1.785     2.443</td>\n",
        "</tr>\n",
        "<tr>\n",
        "  <th>Romance</th>        <td>    0.1027</td> <td>    0.057</td> <td>    1.803</td> <td> 0.071</td> <td>   -0.009     0.214</td>\n",
        "</tr>\n",
        "<tr>\n",
        "  <th>Short</th>          <td>   -0.7849</td> <td>    0.972</td> <td>   -0.808</td> <td> 0.419</td> <td>   -2.690     1.120</td>\n",
        "</tr>\n",
        "</table>\n",
        "<table class=\"simpletable\">\n",
        "<tr>\n",
        "  <th>Omnibus:</th>       <td>13.979</td> <th>  Durbin-Watson:     </th> <td>   1.919</td>\n",
        "</tr>\n",
        "<tr>\n",
        "  <th>Prob(Omnibus):</th> <td> 0.001</td> <th>  Jarque-Bera (JB):  </th> <td>  16.941</td>\n",
        "</tr>\n",
        "<tr>\n",
        "  <th>Skew:</th>          <td>-0.052</td> <th>  Prob(JB):          </th> <td>0.000210</td>\n",
        "</tr>\n",
        "<tr>\n",
        "  <th>Kurtosis:</th>      <td> 3.283</td> <th>  Cond. No.          </th> <td>    768.</td>\n",
        "</tr>\n",
        "</table>"
       ],
       "metadata": {},
       "output_type": "pyout",
       "prompt_number": 253,
       "text": [
        "<class 'statsmodels.iolib.summary.Summary'>\n",
        "\"\"\"\n",
        "                            OLS Regression Results                            \n",
        "==============================================================================\n",
        "Dep. Variable:                 rating   R-squared:                       0.952\n",
        "Model:                            OLS   Adj. R-squared:                  0.952\n",
        "Method:                 Least Squares   F-statistic:                 1.112e+04\n",
        "Date:                Fri, 10 Apr 2015   Prob (F-statistic):               0.00\n",
        "Time:                        08:44:50   Log-Likelihood:                -7675.8\n",
        "No. Observations:                4460   AIC:                         1.537e+04\n",
        "Df Residuals:                    4452   BIC:                         1.542e+04\n",
        "Df Model:                           8                                         \n",
        "==================================================================================\n",
        "                     coef    std err          t      P>|t|      [95.0% Conf. Int.]\n",
        "----------------------------------------------------------------------------------\n",
        "log_budget_adj     0.3515      0.002    141.926      0.000         0.347     0.356\n",
        "Action            -0.4539      0.056     -8.132      0.000        -0.563    -0.344\n",
        "Animation          0.3501      0.136      2.578      0.010         0.084     0.616\n",
        "Comedy             0.0506      0.046      1.099      0.272        -0.040     0.141\n",
        "Drama              0.8546      0.043     19.690      0.000         0.770     0.940\n",
        "Documentary        2.1140      0.168     12.603      0.000         1.785     2.443\n",
        "Romance            0.1027      0.057      1.803      0.071        -0.009     0.214\n",
        "Short             -0.7849      0.972     -0.808      0.419        -2.690     1.120\n",
        "==============================================================================\n",
        "Omnibus:                       13.979   Durbin-Watson:                   1.919\n",
        "Prob(Omnibus):                  0.001   Jarque-Bera (JB):               16.941\n",
        "Skew:                          -0.052   Prob(JB):                     0.000210\n",
        "Kurtosis:                       3.283   Cond. No.                         768.\n",
        "==============================================================================\n",
        "\"\"\""
       ]
      }
     ],
     "prompt_number": 253
    }
   ],
   "metadata": {}
  }
 ]
}
